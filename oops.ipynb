{
  "nbformat": 4,
  "nbformat_minor": 0,
  "metadata": {
    "colab": {
      "provenance": []
    },
    "kernelspec": {
      "name": "python3",
      "display_name": "Python 3"
    },
    "language_info": {
      "name": "python"
    }
  },
  "cells": [
    {
      "cell_type": "code",
      "execution_count": 8,
      "metadata": {
        "colab": {
          "base_uri": "https://localhost:8080/"
        },
        "id": "nof6kncnKrPF",
        "outputId": "4a3af976-626b-4604-f343-e2f19c321724"
      },
      "outputs": [
        {
          "output_type": "stream",
          "name": "stdout",
          "text": [
            "name= Toyota year= 2016 price= 50000\n"
          ]
        }
      ],
      "source": [
        "class car:  \n",
        "    def __init__(self,modelname, year, price):  \n",
        "        self.modelname = modelname  \n",
        "        self.year = year  \n",
        "        self.price = price\n",
        "\n",
        "    def display(self):  \n",
        "        print(\"name=\",self.modelname,\"year=\", self.year,\"price=\",self.price)  \n",
        "  \n",
        "c1 = car(\"Toyota\", 2016, 50000)  \n",
        "c1.display()  \n"
      ]
    },
    {
      "cell_type": "markdown",
      "source": [
        "Inheritance"
      ],
      "metadata": {
        "id": "6cx546bkxQ7W"
      }
    },
    {
      "cell_type": "code",
      "source": [
        "class Animal:  \n",
        "    def speak(self):  \n",
        "        print(\"Animal Speaking\")  \n",
        "#child class Dog inherits the base class Animal  \n",
        "class Dog(Animal):  \n",
        "    def bark(self):  \n",
        "        print(\"dog barking\")  \n",
        "d = Dog()  \n",
        "d.bark()  \n",
        "d.speak()"
      ],
      "metadata": {
        "id": "WNsDMdJbqOza",
        "colab": {
          "base_uri": "https://localhost:8080/"
        },
        "outputId": "298ef72b-6728-4471-8dc0-6343be46aae2"
      },
      "execution_count": 9,
      "outputs": [
        {
          "output_type": "stream",
          "name": "stdout",
          "text": [
            "dog barking\n",
            "Animal Speaking\n"
          ]
        }
      ]
    },
    {
      "cell_type": "code",
      "source": [
        "class Animal:  \n",
        "    def speak(self):  \n",
        "        print(\"Animal Speaking\")  \n",
        "#The child class Dog inherits the base class Animal  \n",
        "class Dog(Animal):  \n",
        "    def bark(self):  \n",
        "        print(\"dog barking\")  \n",
        "#The child class Dogchild inherits another child class Dog  \n",
        "class DogChild(Dog):  \n",
        "    def eat(self):  \n",
        "        print(\"Eating bread...\")  \n",
        "d = DogChild()  \n",
        "d.bark()  \n",
        "d.speak()  \n",
        "d.eat()  "
      ],
      "metadata": {
        "colab": {
          "base_uri": "https://localhost:8080/"
        },
        "id": "zLfXvm10xtM7",
        "outputId": "5744bc69-b67f-4ab2-bd79-38ad3c6e9d29"
      },
      "execution_count": 10,
      "outputs": [
        {
          "output_type": "stream",
          "name": "stdout",
          "text": [
            "dog barking\n",
            "Animal Speaking\n",
            "Eating bread...\n"
          ]
        }
      ]
    },
    {
      "cell_type": "markdown",
      "source": [
        "polymorphism"
      ],
      "metadata": {
        "id": "c1fDtv86zYTj"
      }
    },
    {
      "cell_type": "code",
      "source": [
        "class Cat:\n",
        "    def __init__(self, name, age):\n",
        "        self.name = name\n",
        "        self.age = age\n",
        "\n",
        "    def info(self):\n",
        "        print(f\"I am a cat. My name is {self.name}. I am {self.age} years old.\")\n",
        "\n",
        "    def make_sound(self):\n",
        "        print(\"Meow\")\n",
        "\n",
        "\n",
        "class Dog:\n",
        "    def __init__(self, name, age):\n",
        "        self.name = name\n",
        "        self.age = age\n",
        "\n",
        "    def info(self):\n",
        "        print(f\"I am a dog. My name is {self.name}. I am {self.age} years old.\")\n",
        "\n",
        "    def make_sound(self):\n",
        "        print(\"Bark\")\n",
        "\n",
        "\n",
        "cat1 = Cat(\"Kitty\", 2.5)\n",
        "dog1 = Dog(\"Fluffy\", 4)\n",
        "\n",
        "for animal in (cat1, dog1):\n",
        "    animal.make_sound()\n",
        "    animal.info()\n",
        "    animal.make_sound()"
      ],
      "metadata": {
        "colab": {
          "base_uri": "https://localhost:8080/"
        },
        "id": "tIWxv25qyRQ0",
        "outputId": "92272f51-6d54-403e-b453-188687d82347"
      },
      "execution_count": 11,
      "outputs": [
        {
          "output_type": "stream",
          "name": "stdout",
          "text": [
            "Meow\n",
            "I am a cat. My name is Kitty. I am 2.5 years old.\n",
            "Meow\n",
            "Bark\n",
            "I am a dog. My name is Fluffy. I am 4 years old.\n",
            "Bark\n"
          ]
        }
      ]
    },
    {
      "cell_type": "markdown",
      "source": [
        "Encapsulation"
      ],
      "metadata": {
        "id": "S8dIwMqD3fmU"
      }
    },
    {
      "cell_type": "code",
      "source": [
        "#public\n",
        "\n",
        "class Employee:\n",
        "    # constructor\n",
        "    def __init__(self, name, salary):\n",
        "        # public data members\n",
        "        self.name = name\n",
        "        self.salary = salary\n",
        "\n",
        "    # public instance methods\n",
        "    def show(self):\n",
        "        # accessing public data member\n",
        "        print(\"Name: \", self.name, 'Salary:', self.salary)\n",
        "\n",
        "# creating object of a class\n",
        "emp = Employee('Jessa', 10000)\n",
        "\n",
        "# accessing public data members\n",
        "print(\"Name: \", emp.name, 'Salary:', emp.salary)\n",
        "\n",
        "# calling public method of the class\n",
        "emp.show()"
      ],
      "metadata": {
        "colab": {
          "base_uri": "https://localhost:8080/"
        },
        "id": "1VNRp4FXzsKT",
        "outputId": "978d964c-994f-4285-e070-a277fd090371"
      },
      "execution_count": 12,
      "outputs": [
        {
          "output_type": "stream",
          "name": "stdout",
          "text": [
            "Name:  Jessa Salary: 10000\n",
            "Name:  Jessa Salary: 10000\n"
          ]
        }
      ]
    },
    {
      "cell_type": "code",
      "source": [
        "# accessing private data members\n",
        "class Employee:\n",
        "    # constructor\n",
        "    def __init__(self, name, salary):\n",
        "        # public data member\n",
        "        self.name = name\n",
        "        # private member\n",
        "        self.__salary = salary\n",
        "\n",
        "# creating object of a class\n",
        "emp = Employee('Jessa', 10000)\n",
        "\n",
        "# accessing private data members\n",
        "print('Salary:', emp.__salary)"
      ],
      "metadata": {
        "colab": {
          "base_uri": "https://localhost:8080/",
          "height": 200
        },
        "id": "WOzfhw3r397u",
        "outputId": "73c3fce6-9699-4905-e99d-c796894140f4"
      },
      "execution_count": 17,
      "outputs": [
        {
          "output_type": "error",
          "ename": "AttributeError",
          "evalue": "ignored",
          "traceback": [
            "\u001b[0;31m---------------------------------------------------------------------------\u001b[0m",
            "\u001b[0;31mAttributeError\u001b[0m                            Traceback (most recent call last)",
            "\u001b[0;32m<ipython-input-17-be2a0ebe1037>\u001b[0m in \u001b[0;36m<module>\u001b[0;34m\u001b[0m\n\u001b[1;32m     12\u001b[0m \u001b[0;34m\u001b[0m\u001b[0m\n\u001b[1;32m     13\u001b[0m \u001b[0;31m# accessing private data members\u001b[0m\u001b[0;34m\u001b[0m\u001b[0;34m\u001b[0m\u001b[0;34m\u001b[0m\u001b[0m\n\u001b[0;32m---> 14\u001b[0;31m \u001b[0mprint\u001b[0m\u001b[0;34m(\u001b[0m\u001b[0;34m'Salary:'\u001b[0m\u001b[0;34m,\u001b[0m \u001b[0memp\u001b[0m\u001b[0;34m.\u001b[0m\u001b[0m__salary\u001b[0m\u001b[0;34m)\u001b[0m\u001b[0;34m\u001b[0m\u001b[0;34m\u001b[0m\u001b[0m\n\u001b[0m",
            "\u001b[0;31mAttributeError\u001b[0m: 'Employee' object has no attribute '__salary'"
          ]
        }
      ]
    },
    {
      "cell_type": "code",
      "source": [
        "class Employee:\n",
        "    # constructor\n",
        "    def __init__(self, name, salary):\n",
        "        # public data member\n",
        "        self.name = name\n",
        "        # private member\n",
        "        self.__salary = salary\n",
        "\n",
        "    # public instance methods\n",
        "    def display(self):\n",
        "        # private members are accessible from a class\n",
        "        print(\"Name: \", self.name, ', Salary:', self.__salary)\n",
        "\n",
        "# creating object of a class\n",
        "emp = Employee('Jessa', 10000)\n",
        "\n",
        "# calling public method of the class\n",
        "emp.display()"
      ],
      "metadata": {
        "colab": {
          "base_uri": "https://localhost:8080/"
        },
        "id": "OBzHXID_4iF8",
        "outputId": "0471bdae-5048-47fa-856b-7615002f45ea"
      },
      "execution_count": 20,
      "outputs": [
        {
          "output_type": "stream",
          "name": "stdout",
          "text": [
            "Name:  Jessa , Salary: 10000\n"
          ]
        }
      ]
    },
    {
      "cell_type": "code",
      "source": [],
      "metadata": {
        "id": "deEiuL7LLPKL"
      },
      "execution_count": null,
      "outputs": []
    }
  ]
}