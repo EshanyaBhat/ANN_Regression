{
  "nbformat": 4,
  "nbformat_minor": 0,
  "metadata": {
    "colab": {
      "provenance": []
    },
    "kernelspec": {
      "name": "python3",
      "display_name": "Python 3"
    },
    "language_info": {
      "name": "python"
    }
  },
  "cells": [
    {
      "cell_type": "code",
      "execution_count": 110,
      "metadata": {
        "id": "yidU2A704WGY"
      },
      "outputs": [],
      "source": [
        "#importing the packages  \n",
        "import pandas as pd\n",
        "from matplotlib import pyplot as plt\n",
        "import seaborn as sns\n",
        "import numpy as np\n",
        "%matplotlib inline\n",
        "\n",
        "#import the dataset\n",
        "data = pd.read_csv('/content/cars.csv')"
      ]
    },
    {
      "cell_type": "code",
      "source": [
        "data.head()"
      ],
      "metadata": {
        "colab": {
          "base_uri": "https://localhost:8080/",
          "height": 206
        },
        "id": "uceXeHtEWpD0",
        "outputId": "5b9064a7-c786-4fcf-caa8-80f058533d48"
      },
      "execution_count": 111,
      "outputs": [
        {
          "output_type": "execute_result",
          "data": {
            "text/plain": [
              "   Price Country  Reliability  Mileage   Type  Weight  Disp.   HP\n",
              "0   8895     USA          4.0       33  Small    2560     97  113\n",
              "1   7402     USA          2.0       33  Small    2345    114   90\n",
              "2   6319   Korea          4.0       37  Small    1845     81   63\n",
              "3   6635   Japan          5.0       32  Small    2260     91   92\n",
              "4   6599   Japan          5.0       32  Small    2440    113  103"
            ],
            "text/html": [
              "\n",
              "  <div id=\"df-fb441407-f97b-4d84-8c8a-d35fc7abef06\">\n",
              "    <div class=\"colab-df-container\">\n",
              "      <div>\n",
              "<style scoped>\n",
              "    .dataframe tbody tr th:only-of-type {\n",
              "        vertical-align: middle;\n",
              "    }\n",
              "\n",
              "    .dataframe tbody tr th {\n",
              "        vertical-align: top;\n",
              "    }\n",
              "\n",
              "    .dataframe thead th {\n",
              "        text-align: right;\n",
              "    }\n",
              "</style>\n",
              "<table border=\"1\" class=\"dataframe\">\n",
              "  <thead>\n",
              "    <tr style=\"text-align: right;\">\n",
              "      <th></th>\n",
              "      <th>Price</th>\n",
              "      <th>Country</th>\n",
              "      <th>Reliability</th>\n",
              "      <th>Mileage</th>\n",
              "      <th>Type</th>\n",
              "      <th>Weight</th>\n",
              "      <th>Disp.</th>\n",
              "      <th>HP</th>\n",
              "    </tr>\n",
              "  </thead>\n",
              "  <tbody>\n",
              "    <tr>\n",
              "      <th>0</th>\n",
              "      <td>8895</td>\n",
              "      <td>USA</td>\n",
              "      <td>4.0</td>\n",
              "      <td>33</td>\n",
              "      <td>Small</td>\n",
              "      <td>2560</td>\n",
              "      <td>97</td>\n",
              "      <td>113</td>\n",
              "    </tr>\n",
              "    <tr>\n",
              "      <th>1</th>\n",
              "      <td>7402</td>\n",
              "      <td>USA</td>\n",
              "      <td>2.0</td>\n",
              "      <td>33</td>\n",
              "      <td>Small</td>\n",
              "      <td>2345</td>\n",
              "      <td>114</td>\n",
              "      <td>90</td>\n",
              "    </tr>\n",
              "    <tr>\n",
              "      <th>2</th>\n",
              "      <td>6319</td>\n",
              "      <td>Korea</td>\n",
              "      <td>4.0</td>\n",
              "      <td>37</td>\n",
              "      <td>Small</td>\n",
              "      <td>1845</td>\n",
              "      <td>81</td>\n",
              "      <td>63</td>\n",
              "    </tr>\n",
              "    <tr>\n",
              "      <th>3</th>\n",
              "      <td>6635</td>\n",
              "      <td>Japan</td>\n",
              "      <td>5.0</td>\n",
              "      <td>32</td>\n",
              "      <td>Small</td>\n",
              "      <td>2260</td>\n",
              "      <td>91</td>\n",
              "      <td>92</td>\n",
              "    </tr>\n",
              "    <tr>\n",
              "      <th>4</th>\n",
              "      <td>6599</td>\n",
              "      <td>Japan</td>\n",
              "      <td>5.0</td>\n",
              "      <td>32</td>\n",
              "      <td>Small</td>\n",
              "      <td>2440</td>\n",
              "      <td>113</td>\n",
              "      <td>103</td>\n",
              "    </tr>\n",
              "  </tbody>\n",
              "</table>\n",
              "</div>\n",
              "      <button class=\"colab-df-convert\" onclick=\"convertToInteractive('df-fb441407-f97b-4d84-8c8a-d35fc7abef06')\"\n",
              "              title=\"Convert this dataframe to an interactive table.\"\n",
              "              style=\"display:none;\">\n",
              "        \n",
              "  <svg xmlns=\"http://www.w3.org/2000/svg\" height=\"24px\"viewBox=\"0 0 24 24\"\n",
              "       width=\"24px\">\n",
              "    <path d=\"M0 0h24v24H0V0z\" fill=\"none\"/>\n",
              "    <path d=\"M18.56 5.44l.94 2.06.94-2.06 2.06-.94-2.06-.94-.94-2.06-.94 2.06-2.06.94zm-11 1L8.5 8.5l.94-2.06 2.06-.94-2.06-.94L8.5 2.5l-.94 2.06-2.06.94zm10 10l.94 2.06.94-2.06 2.06-.94-2.06-.94-.94-2.06-.94 2.06-2.06.94z\"/><path d=\"M17.41 7.96l-1.37-1.37c-.4-.4-.92-.59-1.43-.59-.52 0-1.04.2-1.43.59L10.3 9.45l-7.72 7.72c-.78.78-.78 2.05 0 2.83L4 21.41c.39.39.9.59 1.41.59.51 0 1.02-.2 1.41-.59l7.78-7.78 2.81-2.81c.8-.78.8-2.07 0-2.86zM5.41 20L4 18.59l7.72-7.72 1.47 1.35L5.41 20z\"/>\n",
              "  </svg>\n",
              "      </button>\n",
              "      \n",
              "  <style>\n",
              "    .colab-df-container {\n",
              "      display:flex;\n",
              "      flex-wrap:wrap;\n",
              "      gap: 12px;\n",
              "    }\n",
              "\n",
              "    .colab-df-convert {\n",
              "      background-color: #E8F0FE;\n",
              "      border: none;\n",
              "      border-radius: 50%;\n",
              "      cursor: pointer;\n",
              "      display: none;\n",
              "      fill: #1967D2;\n",
              "      height: 32px;\n",
              "      padding: 0 0 0 0;\n",
              "      width: 32px;\n",
              "    }\n",
              "\n",
              "    .colab-df-convert:hover {\n",
              "      background-color: #E2EBFA;\n",
              "      box-shadow: 0px 1px 2px rgba(60, 64, 67, 0.3), 0px 1px 3px 1px rgba(60, 64, 67, 0.15);\n",
              "      fill: #174EA6;\n",
              "    }\n",
              "\n",
              "    [theme=dark] .colab-df-convert {\n",
              "      background-color: #3B4455;\n",
              "      fill: #D2E3FC;\n",
              "    }\n",
              "\n",
              "    [theme=dark] .colab-df-convert:hover {\n",
              "      background-color: #434B5C;\n",
              "      box-shadow: 0px 1px 3px 1px rgba(0, 0, 0, 0.15);\n",
              "      filter: drop-shadow(0px 1px 2px rgba(0, 0, 0, 0.3));\n",
              "      fill: #FFFFFF;\n",
              "    }\n",
              "  </style>\n",
              "\n",
              "      <script>\n",
              "        const buttonEl =\n",
              "          document.querySelector('#df-fb441407-f97b-4d84-8c8a-d35fc7abef06 button.colab-df-convert');\n",
              "        buttonEl.style.display =\n",
              "          google.colab.kernel.accessAllowed ? 'block' : 'none';\n",
              "\n",
              "        async function convertToInteractive(key) {\n",
              "          const element = document.querySelector('#df-fb441407-f97b-4d84-8c8a-d35fc7abef06');\n",
              "          const dataTable =\n",
              "            await google.colab.kernel.invokeFunction('convertToInteractive',\n",
              "                                                     [key], {});\n",
              "          if (!dataTable) return;\n",
              "\n",
              "          const docLinkHtml = 'Like what you see? Visit the ' +\n",
              "            '<a target=\"_blank\" href=https://colab.research.google.com/notebooks/data_table.ipynb>data table notebook</a>'\n",
              "            + ' to learn more about interactive tables.';\n",
              "          element.innerHTML = '';\n",
              "          dataTable['output_type'] = 'display_data';\n",
              "          await google.colab.output.renderOutput(dataTable, element);\n",
              "          const docLink = document.createElement('div');\n",
              "          docLink.innerHTML = docLinkHtml;\n",
              "          element.appendChild(docLink);\n",
              "        }\n",
              "      </script>\n",
              "    </div>\n",
              "  </div>\n",
              "  "
            ]
          },
          "metadata": {},
          "execution_count": 111
        }
      ]
    },
    {
      "cell_type": "code",
      "source": [
        "data.info()"
      ],
      "metadata": {
        "colab": {
          "base_uri": "https://localhost:8080/"
        },
        "id": "jFRQZIipWrMr",
        "outputId": "c056f46e-043b-4993-f55f-f4a830bdab3c"
      },
      "execution_count": 112,
      "outputs": [
        {
          "output_type": "stream",
          "name": "stdout",
          "text": [
            "<class 'pandas.core.frame.DataFrame'>\n",
            "RangeIndex: 60 entries, 0 to 59\n",
            "Data columns (total 8 columns):\n",
            " #   Column       Non-Null Count  Dtype  \n",
            "---  ------       --------------  -----  \n",
            " 0   Price        60 non-null     int64  \n",
            " 1   Country      60 non-null     object \n",
            " 2   Reliability  49 non-null     float64\n",
            " 3   Mileage      60 non-null     int64  \n",
            " 4   Type         60 non-null     object \n",
            " 5   Weight       60 non-null     int64  \n",
            " 6   Disp.        60 non-null     int64  \n",
            " 7   HP           60 non-null     int64  \n",
            "dtypes: float64(1), int64(5), object(2)\n",
            "memory usage: 3.9+ KB\n"
          ]
        }
      ]
    },
    {
      "cell_type": "code",
      "source": [
        "data.isnull().sum()"
      ],
      "metadata": {
        "colab": {
          "base_uri": "https://localhost:8080/"
        },
        "id": "PNzd-sV_Wtue",
        "outputId": "e53d5bb7-6732-4ac2-f06e-afe94604ea92"
      },
      "execution_count": 113,
      "outputs": [
        {
          "output_type": "execute_result",
          "data": {
            "text/plain": [
              "Price           0\n",
              "Country         0\n",
              "Reliability    11\n",
              "Mileage         0\n",
              "Type            0\n",
              "Weight          0\n",
              "Disp.           0\n",
              "HP              0\n",
              "dtype: int64"
            ]
          },
          "metadata": {},
          "execution_count": 113
        }
      ]
    },
    {
      "cell_type": "code",
      "source": [
        "mean_v=round(data['Reliability'].mean())"
      ],
      "metadata": {
        "id": "LEGmw23QetSZ"
      },
      "execution_count": 114,
      "outputs": []
    },
    {
      "cell_type": "code",
      "source": [
        "data['Reliability'].fillna(mean_v,inplace=True)"
      ],
      "metadata": {
        "id": "SdhinNJEd_cV"
      },
      "execution_count": 115,
      "outputs": []
    },
    {
      "cell_type": "code",
      "source": [
        "data.isnull().sum()"
      ],
      "metadata": {
        "colab": {
          "base_uri": "https://localhost:8080/"
        },
        "id": "pfbG7nRadCr2",
        "outputId": "7a17320b-8320-4777-d6f0-58412d4d600f"
      },
      "execution_count": 116,
      "outputs": [
        {
          "output_type": "execute_result",
          "data": {
            "text/plain": [
              "Price          0\n",
              "Country        0\n",
              "Reliability    0\n",
              "Mileage        0\n",
              "Type           0\n",
              "Weight         0\n",
              "Disp.          0\n",
              "HP             0\n",
              "dtype: int64"
            ]
          },
          "metadata": {},
          "execution_count": 116
        }
      ]
    },
    {
      "cell_type": "code",
      "source": [
        "data.head()"
      ],
      "metadata": {
        "colab": {
          "base_uri": "https://localhost:8080/",
          "height": 206
        },
        "id": "RjUaUwufgCro",
        "outputId": "b72a4c2b-a2a8-4723-f050-01196142a849"
      },
      "execution_count": 117,
      "outputs": [
        {
          "output_type": "execute_result",
          "data": {
            "text/plain": [
              "   Price Country  Reliability  Mileage   Type  Weight  Disp.   HP\n",
              "0   8895     USA          4.0       33  Small    2560     97  113\n",
              "1   7402     USA          2.0       33  Small    2345    114   90\n",
              "2   6319   Korea          4.0       37  Small    1845     81   63\n",
              "3   6635   Japan          5.0       32  Small    2260     91   92\n",
              "4   6599   Japan          5.0       32  Small    2440    113  103"
            ],
            "text/html": [
              "\n",
              "  <div id=\"df-69c78663-c53a-4184-b0b2-a00ed68a07a3\">\n",
              "    <div class=\"colab-df-container\">\n",
              "      <div>\n",
              "<style scoped>\n",
              "    .dataframe tbody tr th:only-of-type {\n",
              "        vertical-align: middle;\n",
              "    }\n",
              "\n",
              "    .dataframe tbody tr th {\n",
              "        vertical-align: top;\n",
              "    }\n",
              "\n",
              "    .dataframe thead th {\n",
              "        text-align: right;\n",
              "    }\n",
              "</style>\n",
              "<table border=\"1\" class=\"dataframe\">\n",
              "  <thead>\n",
              "    <tr style=\"text-align: right;\">\n",
              "      <th></th>\n",
              "      <th>Price</th>\n",
              "      <th>Country</th>\n",
              "      <th>Reliability</th>\n",
              "      <th>Mileage</th>\n",
              "      <th>Type</th>\n",
              "      <th>Weight</th>\n",
              "      <th>Disp.</th>\n",
              "      <th>HP</th>\n",
              "    </tr>\n",
              "  </thead>\n",
              "  <tbody>\n",
              "    <tr>\n",
              "      <th>0</th>\n",
              "      <td>8895</td>\n",
              "      <td>USA</td>\n",
              "      <td>4.0</td>\n",
              "      <td>33</td>\n",
              "      <td>Small</td>\n",
              "      <td>2560</td>\n",
              "      <td>97</td>\n",
              "      <td>113</td>\n",
              "    </tr>\n",
              "    <tr>\n",
              "      <th>1</th>\n",
              "      <td>7402</td>\n",
              "      <td>USA</td>\n",
              "      <td>2.0</td>\n",
              "      <td>33</td>\n",
              "      <td>Small</td>\n",
              "      <td>2345</td>\n",
              "      <td>114</td>\n",
              "      <td>90</td>\n",
              "    </tr>\n",
              "    <tr>\n",
              "      <th>2</th>\n",
              "      <td>6319</td>\n",
              "      <td>Korea</td>\n",
              "      <td>4.0</td>\n",
              "      <td>37</td>\n",
              "      <td>Small</td>\n",
              "      <td>1845</td>\n",
              "      <td>81</td>\n",
              "      <td>63</td>\n",
              "    </tr>\n",
              "    <tr>\n",
              "      <th>3</th>\n",
              "      <td>6635</td>\n",
              "      <td>Japan</td>\n",
              "      <td>5.0</td>\n",
              "      <td>32</td>\n",
              "      <td>Small</td>\n",
              "      <td>2260</td>\n",
              "      <td>91</td>\n",
              "      <td>92</td>\n",
              "    </tr>\n",
              "    <tr>\n",
              "      <th>4</th>\n",
              "      <td>6599</td>\n",
              "      <td>Japan</td>\n",
              "      <td>5.0</td>\n",
              "      <td>32</td>\n",
              "      <td>Small</td>\n",
              "      <td>2440</td>\n",
              "      <td>113</td>\n",
              "      <td>103</td>\n",
              "    </tr>\n",
              "  </tbody>\n",
              "</table>\n",
              "</div>\n",
              "      <button class=\"colab-df-convert\" onclick=\"convertToInteractive('df-69c78663-c53a-4184-b0b2-a00ed68a07a3')\"\n",
              "              title=\"Convert this dataframe to an interactive table.\"\n",
              "              style=\"display:none;\">\n",
              "        \n",
              "  <svg xmlns=\"http://www.w3.org/2000/svg\" height=\"24px\"viewBox=\"0 0 24 24\"\n",
              "       width=\"24px\">\n",
              "    <path d=\"M0 0h24v24H0V0z\" fill=\"none\"/>\n",
              "    <path d=\"M18.56 5.44l.94 2.06.94-2.06 2.06-.94-2.06-.94-.94-2.06-.94 2.06-2.06.94zm-11 1L8.5 8.5l.94-2.06 2.06-.94-2.06-.94L8.5 2.5l-.94 2.06-2.06.94zm10 10l.94 2.06.94-2.06 2.06-.94-2.06-.94-.94-2.06-.94 2.06-2.06.94z\"/><path d=\"M17.41 7.96l-1.37-1.37c-.4-.4-.92-.59-1.43-.59-.52 0-1.04.2-1.43.59L10.3 9.45l-7.72 7.72c-.78.78-.78 2.05 0 2.83L4 21.41c.39.39.9.59 1.41.59.51 0 1.02-.2 1.41-.59l7.78-7.78 2.81-2.81c.8-.78.8-2.07 0-2.86zM5.41 20L4 18.59l7.72-7.72 1.47 1.35L5.41 20z\"/>\n",
              "  </svg>\n",
              "      </button>\n",
              "      \n",
              "  <style>\n",
              "    .colab-df-container {\n",
              "      display:flex;\n",
              "      flex-wrap:wrap;\n",
              "      gap: 12px;\n",
              "    }\n",
              "\n",
              "    .colab-df-convert {\n",
              "      background-color: #E8F0FE;\n",
              "      border: none;\n",
              "      border-radius: 50%;\n",
              "      cursor: pointer;\n",
              "      display: none;\n",
              "      fill: #1967D2;\n",
              "      height: 32px;\n",
              "      padding: 0 0 0 0;\n",
              "      width: 32px;\n",
              "    }\n",
              "\n",
              "    .colab-df-convert:hover {\n",
              "      background-color: #E2EBFA;\n",
              "      box-shadow: 0px 1px 2px rgba(60, 64, 67, 0.3), 0px 1px 3px 1px rgba(60, 64, 67, 0.15);\n",
              "      fill: #174EA6;\n",
              "    }\n",
              "\n",
              "    [theme=dark] .colab-df-convert {\n",
              "      background-color: #3B4455;\n",
              "      fill: #D2E3FC;\n",
              "    }\n",
              "\n",
              "    [theme=dark] .colab-df-convert:hover {\n",
              "      background-color: #434B5C;\n",
              "      box-shadow: 0px 1px 3px 1px rgba(0, 0, 0, 0.15);\n",
              "      filter: drop-shadow(0px 1px 2px rgba(0, 0, 0, 0.3));\n",
              "      fill: #FFFFFF;\n",
              "    }\n",
              "  </style>\n",
              "\n",
              "      <script>\n",
              "        const buttonEl =\n",
              "          document.querySelector('#df-69c78663-c53a-4184-b0b2-a00ed68a07a3 button.colab-df-convert');\n",
              "        buttonEl.style.display =\n",
              "          google.colab.kernel.accessAllowed ? 'block' : 'none';\n",
              "\n",
              "        async function convertToInteractive(key) {\n",
              "          const element = document.querySelector('#df-69c78663-c53a-4184-b0b2-a00ed68a07a3');\n",
              "          const dataTable =\n",
              "            await google.colab.kernel.invokeFunction('convertToInteractive',\n",
              "                                                     [key], {});\n",
              "          if (!dataTable) return;\n",
              "\n",
              "          const docLinkHtml = 'Like what you see? Visit the ' +\n",
              "            '<a target=\"_blank\" href=https://colab.research.google.com/notebooks/data_table.ipynb>data table notebook</a>'\n",
              "            + ' to learn more about interactive tables.';\n",
              "          element.innerHTML = '';\n",
              "          dataTable['output_type'] = 'display_data';\n",
              "          await google.colab.output.renderOutput(dataTable, element);\n",
              "          const docLink = document.createElement('div');\n",
              "          docLink.innerHTML = docLinkHtml;\n",
              "          element.appendChild(docLink);\n",
              "        }\n",
              "      </script>\n",
              "    </div>\n",
              "  </div>\n",
              "  "
            ]
          },
          "metadata": {},
          "execution_count": 117
        }
      ]
    },
    {
      "cell_type": "code",
      "source": [
        "plt.hist(data['Country'])"
      ],
      "metadata": {
        "colab": {
          "base_uri": "https://localhost:8080/",
          "height": 317
        },
        "id": "uS_RGwM0hhVa",
        "outputId": "5254bde5-76ee-4282-cee2-93b7e9267864"
      },
      "execution_count": 118,
      "outputs": [
        {
          "output_type": "execute_result",
          "data": {
            "text/plain": [
              "(array([30.,  3.,  0., 22.,  0.,  1.,  2.,  0.,  1.,  1.]),\n",
              " array([0. , 0.6, 1.2, 1.8, 2.4, 3. , 3.6, 4.2, 4.8, 5.4, 6. ]),\n",
              " <a list of 10 Patch objects>)"
            ]
          },
          "metadata": {},
          "execution_count": 118
        },
        {
          "output_type": "display_data",
          "data": {
            "text/plain": [
              "<Figure size 432x288 with 1 Axes>"
            ],
            "image/png": "[encoded data removed]"
          },
          "metadata": {
            "needs_background": "light"
          }
        }
      ]
    },
    {
      "cell_type": "code",
      "source": [
        "mapping = {}\n",
        "for i, category in enumerate(data['Country'].unique()):\n",
        "    mapping[category] = i\n",
        "\n",
        "data['Country'] = data['Country'].map(mapping)"
      ],
      "metadata": {
        "id": "lId9njTIhhYs"
      },
      "execution_count": 119,
      "outputs": []
    },
    {
      "cell_type": "code",
      "source": [
        "data.info()"
      ],
      "metadata": {
        "colab": {
          "base_uri": "https://localhost:8080/"
        },
        "id": "Jun4ZJd9hhfm",
        "outputId": "e44b508d-60eb-4756-cfc0-0d87d2e7cd15"
      },
      "execution_count": 120,
      "outputs": [
        {
          "output_type": "stream",
          "name": "stdout",
          "text": [
            "<class 'pandas.core.frame.DataFrame'>\n",
            "RangeIndex: 60 entries, 0 to 59\n",
            "Data columns (total 8 columns):\n",
            " #   Column       Non-Null Count  Dtype  \n",
            "---  ------       --------------  -----  \n",
            " 0   Price        60 non-null     int64  \n",
            " 1   Country      60 non-null     int64  \n",
            " 2   Reliability  60 non-null     float64\n",
            " 3   Mileage      60 non-null     int64  \n",
            " 4   Type         60 non-null     object \n",
            " 5   Weight       60 non-null     int64  \n",
            " 6   Disp.        60 non-null     int64  \n",
            " 7   HP           60 non-null     int64  \n",
            "dtypes: float64(1), int64(6), object(1)\n",
            "memory usage: 3.9+ KB\n"
          ]
        }
      ]
    },
    {
      "cell_type": "code",
      "source": [
        "plt.hist(data['Type'])"
      ],
      "metadata": {
        "colab": {
          "base_uri": "https://localhost:8080/",
          "height": 317
        },
        "id": "BwRO4vEjhhiu",
        "outputId": "7e0a3d69-3caa-44ba-d2a2-e9c9be46fd82"
      },
      "execution_count": 121,
      "outputs": [
        {
          "output_type": "execute_result",
          "data": {
            "text/plain": [
              "(array([13.,  0.,  9.,  0., 15.,  0., 13.,  0.,  3.,  7.]),\n",
              " array([0. , 0.5, 1. , 1.5, 2. , 2.5, 3. , 3.5, 4. , 4.5, 5. ]),\n",
              " <a list of 10 Patch objects>)"
            ]
          },
          "metadata": {},
          "execution_count": 121
        },
        {
          "output_type": "display_data",
          "data": {
            "text/plain": [
              "<Figure size 432x288 with 1 Axes>"
            ],
            "image/png": "[encoded data removed]"
          },
          "metadata": {
            "needs_background": "light"
          }
        }
      ]
    },
    {
      "cell_type": "code",
      "source": [
        "mapping = {}\n",
        "for i, category in enumerate(data['Type'].unique()):\n",
        "    mapping[category] = i\n",
        "\n",
        "data['Type'] = data['Type'].map(mapping)"
      ],
      "metadata": {
        "id": "1sxdETx8j978"
      },
      "execution_count": 122,
      "outputs": []
    },
    {
      "cell_type": "code",
      "source": [
        "data.info()"
      ],
      "metadata": {
        "colab": {
          "base_uri": "https://localhost:8080/"
        },
        "id": "vMdZD005j9_C",
        "outputId": "e190ee8a-a91c-431e-f438-c2d53b761426"
      },
      "execution_count": 123,
      "outputs": [
        {
          "output_type": "stream",
          "name": "stdout",
          "text": [
            "<class 'pandas.core.frame.DataFrame'>\n",
            "RangeIndex: 60 entries, 0 to 59\n",
            "Data columns (total 8 columns):\n",
            " #   Column       Non-Null Count  Dtype  \n",
            "---  ------       --------------  -----  \n",
            " 0   Price        60 non-null     int64  \n",
            " 1   Country      60 non-null     int64  \n",
            " 2   Reliability  60 non-null     float64\n",
            " 3   Mileage      60 non-null     int64  \n",
            " 4   Type         60 non-null     int64  \n",
            " 5   Weight       60 non-null     int64  \n",
            " 6   Disp.        60 non-null     int64  \n",
            " 7   HP           60 non-null     int64  \n",
            "dtypes: float64(1), int64(7)\n",
            "memory usage: 3.9 KB\n"
          ]
        }
      ]
    },
    {
      "cell_type": "code",
      "source": [
        "data.describe (include = \"all\").T"
      ],
      "metadata": {
        "colab": {
          "base_uri": "https://localhost:8080/",
          "height": 364
        },
        "id": "uGA0hz3SWwyr",
        "outputId": "ba3bcdfc-5db5-4056-f3f5-f78639986ac2"
      },
      "execution_count": 124,
      "outputs": [
        {
          "output_type": "execute_result",
          "data": {
            "text/plain": [
              "             count          mean          std     min      25%      50%  \\\n",
              "Price         60.0  12615.666667  4082.935753  5866.0  9932.50  12215.5   \n",
              "Country       60.0      1.150000     1.387902     0.0     0.00      0.5   \n",
              "Reliability   60.0      3.316667     1.321166     1.0     3.00      3.0   \n",
              "Mileage       60.0     24.583333     4.791559    18.0    21.00     23.0   \n",
              "Type          60.0      2.083333     1.586935     0.0     1.00      2.0   \n",
              "Weight        60.0   2900.833333   495.866103  1845.0  2571.25   2885.0   \n",
              "Disp.         60.0    152.050000    54.160911    73.0   113.75    144.5   \n",
              "HP            60.0    122.350000    30.980489    63.0   101.50    111.5   \n",
              "\n",
              "                  75%      max  \n",
              "Price        14932.75  24760.0  \n",
              "Country          2.00      6.0  \n",
              "Reliability      5.00      5.0  \n",
              "Mileage         27.00     37.0  \n",
              "Type             3.00      5.0  \n",
              "Weight        3231.25   3855.0  \n",
              "Disp.          180.00    305.0  \n",
              "HP             142.75    225.0  "
            ],
            "text/html": [
              "\n",
              "  <div id=\"df-8e2b4f43-ac58-46cd-8638-6a157c54941d\">\n",
              "    <div class=\"colab-df-container\">\n",
              "      <div>\n",
              "<style scoped>\n",
              "    .dataframe tbody tr th:only-of-type {\n",
              "        vertical-align: middle;\n",
              "    }\n",
              "\n",
              "    .dataframe tbody tr th {\n",
              "        vertical-align: top;\n",
              "    }\n",
              "\n",
              "    .dataframe thead th {\n",
              "        text-align: right;\n",
              "    }\n",
              "</style>\n",
              "<table border=\"1\" class=\"dataframe\">\n",
              "  <thead>\n",
              "    <tr style=\"text-align: right;\">\n",
              "      <th></th>\n",
              "      <th>count</th>\n",
              "      <th>mean</th>\n",
              "      <th>std</th>\n",
              "      <th>min</th>\n",
              "      <th>25%</th>\n",
              "      <th>50%</th>\n",
              "      <th>75%</th>\n",
              "      <th>max</th>\n",
              "    </tr>\n",
              "  </thead>\n",
              "  <tbody>\n",
              "    <tr>\n",
              "      <th>Price</th>\n",
              "      <td>60.0</td>\n",
              "      <td>12615.666667</td>\n",
              "      <td>4082.935753</td>\n",
              "      <td>5866.0</td>\n",
              "      <td>9932.50</td>\n",
              "      <td>12215.5</td>\n",
              "      <td>14932.75</td>\n",
              "      <td>24760.0</td>\n",
              "    </tr>\n",
              "    <tr>\n",
              "      <th>Country</th>\n",
              "      <td>60.0</td>\n",
              "      <td>1.150000</td>\n",
              "      <td>1.387902</td>\n",
              "      <td>0.0</td>\n",
              "      <td>0.00</td>\n",
              "      <td>0.5</td>\n",
              "      <td>2.00</td>\n",
              "      <td>6.0</td>\n",
              "    </tr>\n",
              "    <tr>\n",
              "      <th>Reliability</th>\n",
              "      <td>60.0</td>\n",
              "      <td>3.316667</td>\n",
              "      <td>1.321166</td>\n",
              "      <td>1.0</td>\n",
              "      <td>3.00</td>\n",
              "      <td>3.0</td>\n",
              "      <td>5.00</td>\n",
              "      <td>5.0</td>\n",
              "    </tr>\n",
              "    <tr>\n",
              "      <th>Mileage</th>\n",
              "      <td>60.0</td>\n",
              "      <td>24.583333</td>\n",
              "      <td>4.791559</td>\n",
              "      <td>18.0</td>\n",
              "      <td>21.00</td>\n",
              "      <td>23.0</td>\n",
              "      <td>27.00</td>\n",
              "      <td>37.0</td>\n",
              "    </tr>\n",
              "    <tr>\n",
              "      <th>Type</th>\n",
              "      <td>60.0</td>\n",
              "      <td>2.083333</td>\n",
              "      <td>1.586935</td>\n",
              "      <td>0.0</td>\n",
              "      <td>1.00</td>\n",
              "      <td>2.0</td>\n",
              "      <td>3.00</td>\n",
              "      <td>5.0</td>\n",
              "    </tr>\n",
              "    <tr>\n",
              "      <th>Weight</th>\n",
              "      <td>60.0</td>\n",
              "      <td>2900.833333</td>\n",
              "      <td>495.866103</td>\n",
              "      <td>1845.0</td>\n",
              "      <td>2571.25</td>\n",
              "      <td>2885.0</td>\n",
              "      <td>3231.25</td>\n",
              "      <td>3855.0</td>\n",
              "    </tr>\n",
              "    <tr>\n",
              "      <th>Disp.</th>\n",
              "      <td>60.0</td>\n",
              "      <td>152.050000</td>\n",
              "      <td>54.160911</td>\n",
              "      <td>73.0</td>\n",
              "      <td>113.75</td>\n",
              "      <td>144.5</td>\n",
              "      <td>180.00</td>\n",
              "      <td>305.0</td>\n",
              "    </tr>\n",
              "    <tr>\n",
              "      <th>HP</th>\n",
              "      <td>60.0</td>\n",
              "      <td>122.350000</td>\n",
              "      <td>30.980489</td>\n",
              "      <td>63.0</td>\n",
              "      <td>101.50</td>\n",
              "      <td>111.5</td>\n",
              "      <td>142.75</td>\n",
              "      <td>225.0</td>\n",
              "    </tr>\n",
              "  </tbody>\n",
              "</table>\n",
              "</div>\n",
              "      <button class=\"colab-df-convert\" onclick=\"convertToInteractive('df-8e2b4f43-ac58-46cd-8638-6a157c54941d')\"\n",
              "              title=\"Convert this dataframe to an interactive table.\"\n",
              "              style=\"display:none;\">\n",
              "        \n",
              "  <svg xmlns=\"http://www.w3.org/2000/svg\" height=\"24px\"viewBox=\"0 0 24 24\"\n",
              "       width=\"24px\">\n",
              "    <path d=\"M0 0h24v24H0V0z\" fill=\"none\"/>\n",
              "    <path d=\"M18.56 5.44l.94 2.06.94-2.06 2.06-.94-2.06-.94-.94-2.06-.94 2.06-2.06.94zm-11 1L8.5 8.5l.94-2.06 2.06-.94-2.06-.94L8.5 2.5l-.94 2.06-2.06.94zm10 10l.94 2.06.94-2.06 2.06-.94-2.06-.94-.94-2.06-.94 2.06-2.06.94z\"/><path d=\"M17.41 7.96l-1.37-1.37c-.4-.4-.92-.59-1.43-.59-.52 0-1.04.2-1.43.59L10.3 9.45l-7.72 7.72c-.78.78-.78 2.05 0 2.83L4 21.41c.39.39.9.59 1.41.59.51 0 1.02-.2 1.41-.59l7.78-7.78 2.81-2.81c.8-.78.8-2.07 0-2.86zM5.41 20L4 18.59l7.72-7.72 1.47 1.35L5.41 20z\"/>\n",
              "  </svg>\n",
              "      </button>\n",
              "      \n",
              "  <style>\n",
              "    .colab-df-container {\n",
              "      display:flex;\n",
              "      flex-wrap:wrap;\n",
              "      gap: 12px;\n",
              "    }\n",
              "\n",
              "    .colab-df-convert {\n",
              "      background-color: #E8F0FE;\n",
              "      border: none;\n",
              "      border-radius: 50%;\n",
              "      cursor: pointer;\n",
              "      display: none;\n",
              "      fill: #1967D2;\n",
              "      height: 32px;\n",
              "      padding: 0 0 0 0;\n",
              "      width: 32px;\n",
              "    }\n",
              "\n",
              "    .colab-df-convert:hover {\n",
              "      background-color: #E2EBFA;\n",
              "      box-shadow: 0px 1px 2px rgba(60, 64, 67, 0.3), 0px 1px 3px 1px rgba(60, 64, 67, 0.15);\n",
              "      fill: #174EA6;\n",
              "    }\n",
              "\n",
              "    [theme=dark] .colab-df-convert {\n",
              "      background-color: #3B4455;\n",
              "      fill: #D2E3FC;\n",
              "    }\n",
              "\n",
              "    [theme=dark] .colab-df-convert:hover {\n",
              "      background-color: #434B5C;\n",
              "      box-shadow: 0px 1px 3px 1px rgba(0, 0, 0, 0.15);\n",
              "      filter: drop-shadow(0px 1px 2px rgba(0, 0, 0, 0.3));\n",
              "      fill: #FFFFFF;\n",
              "    }\n",
              "  </style>\n",
              "\n",
              "      <script>\n",
              "        const buttonEl =\n",
              "          document.querySelector('#df-8e2b4f43-ac58-46cd-8638-6a157c54941d button.colab-df-convert');\n",
              "        buttonEl.style.display =\n",
              "          google.colab.kernel.accessAllowed ? 'block' : 'none';\n",
              "\n",
              "        async function convertToInteractive(key) {\n",
              "          const element = document.querySelector('#df-8e2b4f43-ac58-46cd-8638-6a157c54941d');\n",
              "          const dataTable =\n",
              "            await google.colab.kernel.invokeFunction('convertToInteractive',\n",
              "                                                     [key], {});\n",
              "          if (!dataTable) return;\n",
              "\n",
              "          const docLinkHtml = 'Like what you see? Visit the ' +\n",
              "            '<a target=\"_blank\" href=https://colab.research.google.com/notebooks/data_table.ipynb>data table notebook</a>'\n",
              "            + ' to learn more about interactive tables.';\n",
              "          element.innerHTML = '';\n",
              "          dataTable['output_type'] = 'display_data';\n",
              "          await google.colab.output.renderOutput(dataTable, element);\n",
              "          const docLink = document.createElement('div');\n",
              "          docLink.innerHTML = docLinkHtml;\n",
              "          element.appendChild(docLink);\n",
              "        }\n",
              "      </script>\n",
              "    </div>\n",
              "  </div>\n",
              "  "
            ]
          },
          "metadata": {},
          "execution_count": 124
        }
      ]
    },
    {
      "cell_type": "code",
      "source": [
        "data.head()"
      ],
      "metadata": {
        "colab": {
          "base_uri": "https://localhost:8080/",
          "height": 206
        },
        "id": "t3qMjGEnSF6z",
        "outputId": "2c51979c-864a-4ee3-dba1-25adb4b132af"
      },
      "execution_count": 125,
      "outputs": [
        {
          "output_type": "execute_result",
          "data": {
            "text/plain": [
              "   Price  Country  Reliability  Mileage  Type  Weight  Disp.   HP\n",
              "0   8895        0          4.0       33     0    2560     97  113\n",
              "1   7402        0          2.0       33     0    2345    114   90\n",
              "2   6319        1          4.0       37     0    1845     81   63\n",
              "3   6635        2          5.0       32     0    2260     91   92\n",
              "4   6599        2          5.0       32     0    2440    113  103"
            ],
            "text/html": [
              "\n",
              "  <div id=\"df-cbbd5977-c5e5-4692-90bd-e60873389850\">\n",
              "    <div class=\"colab-df-container\">\n",
              "      <div>\n",
              "<style scoped>\n",
              "    .dataframe tbody tr th:only-of-type {\n",
              "        vertical-align: middle;\n",
              "    }\n",
              "\n",
              "    .dataframe tbody tr th {\n",
              "        vertical-align: top;\n",
              "    }\n",
              "\n",
              "    .dataframe thead th {\n",
              "        text-align: right;\n",
              "    }\n",
              "</style>\n",
              "<table border=\"1\" class=\"dataframe\">\n",
              "  <thead>\n",
              "    <tr style=\"text-align: right;\">\n",
              "      <th></th>\n",
              "      <th>Price</th>\n",
              "      <th>Country</th>\n",
              "      <th>Reliability</th>\n",
              "      <th>Mileage</th>\n",
              "      <th>Type</th>\n",
              "      <th>Weight</th>\n",
              "      <th>Disp.</th>\n",
              "      <th>HP</th>\n",
              "    </tr>\n",
              "  </thead>\n",
              "  <tbody>\n",
              "    <tr>\n",
              "      <th>0</th>\n",
              "      <td>8895</td>\n",
              "      <td>0</td>\n",
              "      <td>4.0</td>\n",
              "      <td>33</td>\n",
              "      <td>0</td>\n",
              "      <td>2560</td>\n",
              "      <td>97</td>\n",
              "      <td>113</td>\n",
              "    </tr>\n",
              "    <tr>\n",
              "      <th>1</th>\n",
              "      <td>7402</td>\n",
              "      <td>0</td>\n",
              "      <td>2.0</td>\n",
              "      <td>33</td>\n",
              "      <td>0</td>\n",
              "      <td>2345</td>\n",
              "      <td>114</td>\n",
              "      <td>90</td>\n",
              "    </tr>\n",
              "    <tr>\n",
              "      <th>2</th>\n",
              "      <td>6319</td>\n",
              "      <td>1</td>\n",
              "      <td>4.0</td>\n",
              "      <td>37</td>\n",
              "      <td>0</td>\n",
              "      <td>1845</td>\n",
              "      <td>81</td>\n",
              "      <td>63</td>\n",
              "    </tr>\n",
              "    <tr>\n",
              "      <th>3</th>\n",
              "      <td>6635</td>\n",
              "      <td>2</td>\n",
              "      <td>5.0</td>\n",
              "      <td>32</td>\n",
              "      <td>0</td>\n",
              "      <td>2260</td>\n",
              "      <td>91</td>\n",
              "      <td>92</td>\n",
              "    </tr>\n",
              "    <tr>\n",
              "      <th>4</th>\n",
              "      <td>6599</td>\n",
              "      <td>2</td>\n",
              "      <td>5.0</td>\n",
              "      <td>32</td>\n",
              "      <td>0</td>\n",
              "      <td>2440</td>\n",
              "      <td>113</td>\n",
              "      <td>103</td>\n",
              "    </tr>\n",
              "  </tbody>\n",
              "</table>\n",
              "</div>\n",
              "      <button class=\"colab-df-convert\" onclick=\"convertToInteractive('df-cbbd5977-c5e5-4692-90bd-e60873389850')\"\n",
              "              title=\"Convert this dataframe to an interactive table.\"\n",
              "              style=\"display:none;\">\n",
              "        \n",
              "  <svg xmlns=\"http://www.w3.org/2000/svg\" height=\"24px\"viewBox=\"0 0 24 24\"\n",
              "       width=\"24px\">\n",
              "    <path d=\"M0 0h24v24H0V0z\" fill=\"none\"/>\n",
              "    <path d=\"M18.56 5.44l.94 2.06.94-2.06 2.06-.94-2.06-.94-.94-2.06-.94 2.06-2.06.94zm-11 1L8.5 8.5l.94-2.06 2.06-.94-2.06-.94L8.5 2.5l-.94 2.06-2.06.94zm10 10l.94 2.06.94-2.06 2.06-.94-2.06-.94-.94-2.06-.94 2.06-2.06.94z\"/><path d=\"M17.41 7.96l-1.37-1.37c-.4-.4-.92-.59-1.43-.59-.52 0-1.04.2-1.43.59L10.3 9.45l-7.72 7.72c-.78.78-.78 2.05 0 2.83L4 21.41c.39.39.9.59 1.41.59.51 0 1.02-.2 1.41-.59l7.78-7.78 2.81-2.81c.8-.78.8-2.07 0-2.86zM5.41 20L4 18.59l7.72-7.72 1.47 1.35L5.41 20z\"/>\n",
              "  </svg>\n",
              "      </button>\n",
              "      \n",
              "  <style>\n",
              "    .colab-df-container {\n",
              "      display:flex;\n",
              "      flex-wrap:wrap;\n",
              "      gap: 12px;\n",
              "    }\n",
              "\n",
              "    .colab-df-convert {\n",
              "      background-color: #E8F0FE;\n",
              "      border: none;\n",
              "      border-radius: 50%;\n",
              "      cursor: pointer;\n",
              "      display: none;\n",
              "      fill: #1967D2;\n",
              "      height: 32px;\n",
              "      padding: 0 0 0 0;\n",
              "      width: 32px;\n",
              "    }\n",
              "\n",
              "    .colab-df-convert:hover {\n",
              "      background-color: #E2EBFA;\n",
              "      box-shadow: 0px 1px 2px rgba(60, 64, 67, 0.3), 0px 1px 3px 1px rgba(60, 64, 67, 0.15);\n",
              "      fill: #174EA6;\n",
              "    }\n",
              "\n",
              "    [theme=dark] .colab-df-convert {\n",
              "      background-color: #3B4455;\n",
              "      fill: #D2E3FC;\n",
              "    }\n",
              "\n",
              "    [theme=dark] .colab-df-convert:hover {\n",
              "      background-color: #434B5C;\n",
              "      box-shadow: 0px 1px 3px 1px rgba(0, 0, 0, 0.15);\n",
              "      filter: drop-shadow(0px 1px 2px rgba(0, 0, 0, 0.3));\n",
              "      fill: #FFFFFF;\n",
              "    }\n",
              "  </style>\n",
              "\n",
              "      <script>\n",
              "        const buttonEl =\n",
              "          document.querySelector('#df-cbbd5977-c5e5-4692-90bd-e60873389850 button.colab-df-convert');\n",
              "        buttonEl.style.display =\n",
              "          google.colab.kernel.accessAllowed ? 'block' : 'none';\n",
              "\n",
              "        async function convertToInteractive(key) {\n",
              "          const element = document.querySelector('#df-cbbd5977-c5e5-4692-90bd-e60873389850');\n",
              "          const dataTable =\n",
              "            await google.colab.kernel.invokeFunction('convertToInteractive',\n",
              "                                                     [key], {});\n",
              "          if (!dataTable) return;\n",
              "\n",
              "          const docLinkHtml = 'Like what you see? Visit the ' +\n",
              "            '<a target=\"_blank\" href=https://colab.research.google.com/notebooks/data_table.ipynb>data table notebook</a>'\n",
              "            + ' to learn more about interactive tables.';\n",
              "          element.innerHTML = '';\n",
              "          dataTable['output_type'] = 'display_data';\n",
              "          await google.colab.output.renderOutput(dataTable, element);\n",
              "          const docLink = document.createElement('div');\n",
              "          docLink.innerHTML = docLinkHtml;\n",
              "          element.appendChild(docLink);\n",
              "        }\n",
              "      </script>\n",
              "    </div>\n",
              "  </div>\n",
              "  "
            ]
          },
          "metadata": {},
          "execution_count": 125
        }
      ]
    },
    {
      "cell_type": "code",
      "source": [
        "data.shape"
      ],
      "metadata": {
        "colab": {
          "base_uri": "https://localhost:8080/"
        },
        "id": "DoCPvYHXWxBc",
        "outputId": "19e454c3-ebd3-4a15-c988-329b8db6e1f5"
      },
      "execution_count": 126,
      "outputs": [
        {
          "output_type": "execute_result",
          "data": {
            "text/plain": [
              "(60, 8)"
            ]
          },
          "metadata": {},
          "execution_count": 126
        }
      ]
    },
    {
      "cell_type": "code",
      "source": [
        "plt.figure (figsize = (2 , 8) , dpi = 100)\n",
        "heatmap = sns.heatmap (data.corr()[['Price']].sort_values (by = 'Price', ascending = False), vmin = -1, vmax = 1, annot = True, cmap = 'coolwarm')\n",
        "heatmap.set_title ('Features Correlating with Price', fontdict = {'fontsize':16} , pad = 18);"
      ],
      "metadata": {
        "colab": {
          "base_uri": "https://localhost:8080/",
          "height": 705
        },
        "id": "UUhBDV7DWxEk",
        "outputId": "840d4b47-6380-4d60-f16f-7b1475773ad6"
      },
      "execution_count": 127,
      "outputs": [
        {
          "output_type": "display_data",
          "data": {
            "text/plain": [
              "<Figure size 200x800 with 2 Axes>"
            ],
            "image/png": "[encoded data removed]"
          },
          "metadata": {
            "needs_background": "light"
          }
        }
      ]
    },
    {
      "cell_type": "code",
      "source": [
        "plt.figure(figsize=(16,8))\n",
        "plt.plot(data['Price'], label='Price history')"
      ],
      "metadata": {
        "colab": {
          "base_uri": "https://localhost:8080/",
          "height": 345
        },
        "id": "fNBuYoAUWxIT",
        "outputId": "7f2b97be-278e-4c3f-bf68-70d2c4949dea"
      },
      "execution_count": 128,
      "outputs": [
        {
          "output_type": "execute_result",
          "data": {
            "text/plain": [
              "[<matplotlib.lines.Line2D at 0x7fd6c067dee0>]"
            ]
          },
          "metadata": {},
          "execution_count": 128
        },
        {
          "output_type": "display_data",
          "data": {
            "text/plain": [
              "<Figure size 1152x576 with 1 Axes>"
            ],
            "image/png": "[encoded data removed]"
          },
          "metadata": {
            "needs_background": "light"
          }
        }
      ]
    },
    {
      "cell_type": "code",
      "source": [
        "df = data.sample(frac=1).reset_index(drop=True)"
      ],
      "metadata": {
        "id": "ImSY-ut-Xq8e"
      },
      "execution_count": 129,
      "outputs": []
    },
    {
      "cell_type": "code",
      "source": [
        "train_size = int(0.8 * len(df))\n",
        "train_X = df.iloc[:train_size, :-1].values\n",
        "train_y = df.iloc[:train_size, -1].values\n",
        "test_X = df.iloc[train_size:, :-1].values\n",
        "test_y = df.iloc[train_size:, -1].values\n",
        "\n",
        "print(f\"Train size: {len(train_X)}\")\n",
        "print(f\"Test size: {len(test_X)}\")\n",
        "print(f\"Train size: {len(train_y)}\")\n",
        "print(f\"Test size: {len(test_y)}\")\n"
      ],
      "metadata": {
        "colab": {
          "base_uri": "https://localhost:8080/"
        },
        "id": "Ku9gFkW9RsnD",
        "outputId": "839586ae-44be-4345-f055-cc4f216e6b8e"
      },
      "execution_count": 130,
      "outputs": [
        {
          "output_type": "stream",
          "name": "stdout",
          "text": [
            "Train size: 48\n",
            "Test size: 12\n",
            "Train size: 48\n",
            "Test size: 12\n"
          ]
        }
      ]
    },
    {
      "cell_type": "code",
      "source": [
        "import numpy as np\n",
        "\n",
        "class StandardScaler:\n",
        "    def _init_(self):\n",
        "        self.mean = None\n",
        "        self.std = None\n",
        "    \n",
        "    def fit(self, X):\n",
        "        self.mean = np.mean(X, axis=0)\n",
        "        self.std = np.std(X, axis=0)\n",
        "    \n",
        "    def transform(self, X):\n",
        "        return (X - self.mean) / self.std\n",
        "    \n",
        "    def fit_transform(self, X):\n",
        "        self.fit(X)\n",
        "        return self.transform(X)"
      ],
      "metadata": {
        "id": "MRlLO35GOTyb"
      },
      "execution_count": 131,
      "outputs": []
    },
    {
      "cell_type": "code",
      "source": [
        "#standard scalar \n",
        "sc = StandardScaler()\n",
        "sc.fit(train_X)\n",
        "X_train = sc.transform(train_X)\n",
        "X_test = sc.transform(test_X) \n",
        "sc.fit(train_y)\n",
        "y_train = sc.transform(train_y)\n",
        "y_test = sc.transform(test_y)\n"
      ],
      "metadata": {
        "id": "QgNBA2OVPOWl"
      },
      "execution_count": 132,
      "outputs": []
    },
    {
      "cell_type": "code",
      "source": [
        "class RNeuralNetwork(object):\n",
        "\n",
        "    def __init__(self, data_matrix = None, target_variable = None, hidden = None,\n",
        "                 epochs = None, learning_rate = None):\n",
        "        # Create design matrix\n",
        "        self.N = data_matrix.shape[0]  # assumes df is np array\n",
        "        design_matrix = pd.DataFrame(data_matrix)\n",
        "        design_matrix.insert(0, 'bias', np.ones(self.N))  # add column of 1's\n",
        "        self.X = design_matrix\n",
        "        \n",
        "        # Helper variables\n",
        "        D = data_matrix.shape[1]  # number of dimensions of data matrix\n",
        "        M = hidden  # number of chosen hidden layers\n",
        "        self.Y = target_variable.reshape(-1, 1)  # target variable\n",
        "        self.epochs = epochs\n",
        "        self.eta = learning_rate\n",
        "        \n",
        "        # Initialize random weight matrices\n",
        "        self.W_1 = 0.01 * np.random.randn(D + 1, M)\n",
        "        self.W_2 = 0.01 * np.random.randn(M + 1, 1)\n",
        "    \n",
        "    def relu(self, x):\n",
        "        return np.maximum(0,x)\n",
        "\n",
        "    def linear(self, x):\n",
        "        return x \n",
        "    \n",
        "    def forward_propagation(self):\n",
        "        self.Z_1 = np.dot(self.X, self.W_1)\n",
        "        self.A_1 = self.relu(self.Z_1)\n",
        "        self.Z_2 = np.hstack((np.ones((self.N, 1)), self.A_1))  # add column of 1's for bias\n",
        "        self.A_2 = np.dot(self.Z_2, self.W_2)\n",
        "        self.out1 = self.linear(self.A_2)\n",
        "        return self\n",
        "    \n",
        "    def loss_function(self):\n",
        "        # calculate the loss for a current iteration\n",
        "        return np.mean((self.Y - self.out1)**2)\n",
        "\n",
        "    \n",
        "    def backprop(self):\n",
        "        # calculate gradient for W_2\n",
        "        self.error = self.out1 - self.Y\n",
        "        self.W_2_gradient = np.dot(np.transpose(self.Z_2), self.error)\n",
        "       \n",
        "        # calculate gradient for W_1\n",
        "        self.H_prime = self.A_1  \n",
        "        self.W_2_reduced = self.W_2[1:,]  # drop first row from W_2\n",
        "        self.W_1_gradient = np.dot(np.transpose(self.X),\n",
        "                                   (self.H_prime * np.dot(self.error,\n",
        "                                                          np.transpose(self.W_2_reduced))))\n",
        "\n",
        "        # update weights with gradient descent\n",
        "        self.W_1 = self.W_1 - self.eta * self.W_1_gradient\n",
        "        self.W_2 = self.W_2 - self.eta * self.W_2_gradient\n",
        "        return self\n",
        "\n",
        "    def r_squared(self):\n",
        "        self.y_mean = np.mean(self.Y)\n",
        "        self.ss_res = np.sum((self.Y - self.out1)**2)\n",
        "        self.ss_tot = np.sum((self.Y - self.y_mean)**2)\n",
        "        return 1 - (self.ss_res / self.ss_tot)\n",
        "        \n",
        "\n",
        "    def train(self):\n",
        "        losses = []\n",
        "        rsq=[]\n",
        "        for i in range(int(self.epochs)):\n",
        "            self.forward_propagation()\n",
        "            self.backprop()\n",
        "            loss = self.loss_function()\n",
        "            losses.append(loss)\n",
        "            rs=self.r_squared()\n",
        "            rsq.append(rs)\n",
        "            if (i % 1000) == 0:\n",
        "                print('Epoch: ', i,\n",
        "                      '    Loss: ', round(self.loss_function(), 4), \n",
        "                      '    R-squared: ', round(self.r_squared(), 4))\n",
        "                \n",
        "        plt.plot(range(len(losses)), losses)\n",
        "        plt.title('Training Loss')\n",
        "        plt.xlabel('Epochs')\n",
        "        plt.ylabel('Loss')\n",
        "        plt.show()\n",
        "\n",
        "        plt.plot(range(len(rsq)), rsq)\n",
        "        plt.title('R_Square')\n",
        "        plt.xlabel('Epochs')\n",
        "        plt.ylabel('RSquare')\n",
        "        plt.show()"
      ],
      "metadata": {
        "id": "zQdb_XK3x5t4"
      },
      "execution_count": 156,
      "outputs": []
    },
    {
      "cell_type": "code",
      "source": [
        "ANN = RNeuralNetwork(data_matrix=X_train, target_variable=y_train,\n",
        "                        hidden=10, epochs=10000, learning_rate=0.001)"
      ],
      "metadata": {
        "id": "gFabYvCt4bqf"
      },
      "execution_count": 157,
      "outputs": []
    },
    {
      "cell_type": "code",
      "source": [
        "ANN.train()"
      ],
      "metadata": {
        "colab": {
          "base_uri": "https://localhost:8080/",
          "height": 747
        },
        "id": "eS4WwE7C4hul",
        "outputId": "f466e64e-e019-4b86-dbbe-b30d0c7fd7aa"
      },
      "execution_count": 158,
      "outputs": [
        {
          "output_type": "stream",
          "name": "stdout",
          "text": [
            "Epoch:  0     Loss:  1.0006     R-squared:  -0.0006\n",
            "Epoch:  1000     Loss:  0.2037     R-squared:  0.7963\n",
            "Epoch:  2000     Loss:  0.198     R-squared:  0.802\n",
            "Epoch:  3000     Loss:  0.1889     R-squared:  0.8111\n",
            "Epoch:  4000     Loss:  0.1814     R-squared:  0.8186\n",
            "Epoch:  5000     Loss:  0.1749     R-squared:  0.8251\n",
            "Epoch:  6000     Loss:  0.1719     R-squared:  0.8281\n",
            "Epoch:  7000     Loss:  0.1664     R-squared:  0.8336\n",
            "Epoch:  8000     Loss:  0.1501     R-squared:  0.8499\n",
            "Epoch:  9000     Loss:  0.1415     R-squared:  0.8585\n"
          ]
        },
        {
          "output_type": "display_data",
          "data": {
            "text/plain": [
              "<Figure size 432x288 with 1 Axes>"
            ],
            "image/png": "[encoded data removed]"
          },
          "metadata": {
            "needs_background": "light"
          }
        },
        {
          "output_type": "display_data",
          "data": {
            "text/plain": [
              "<Figure size 432x288 with 1 Axes>"
            ],
            "image/png": "[encoded data removed]"
          },
          "metadata": {
            "needs_background": "light"
          }
        }
      ]
    },
    {
      "cell_type": "code",
      "source": [],
      "metadata": {
        "id": "LWFiHgULOGwF"
      },
      "execution_count": 135,
      "outputs": []
    },
    {
      "cell_type": "code",
      "source": [],
      "metadata": {
        "id": "GPLhEuvcOG1O"
      },
      "execution_count": 135,
      "outputs": []
    },
    {
      "cell_type": "code",
      "source": [],
      "metadata": {
        "id": "IrpubdKg0aW5"
      },
      "execution_count": 135,
      "outputs": []
    },
    {
      "cell_type": "code",
      "source": [],
      "metadata": {
        "id": "uuhti0DCOBsS"
      },
      "execution_count": 135,
      "outputs": []
    }
  ]
}